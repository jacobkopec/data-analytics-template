{
 "cells": [
  {
   "cell_type": "markdown",
   "id": "0e0f2ea8-11c9-4683-a142-05fcd61ca4c0",
   "metadata": {},
   "source": [
    "### Code for scraping the first website"
   ]
  },
  {
   "cell_type": "code",
   "execution_count": 1,
   "id": "bf099722-e1f3-4b4f-973c-8bb629678220",
   "metadata": {},
   "outputs": [],
   "source": [
    "from selenium import webdriver\n",
    "from selenium.webdriver.chrome.service import Service\n",
    "from selenium.webdriver.common.by import By\n",
    "from selenium.webdriver.chrome.options import Options\n",
    "from webdriver_manager.chrome import ChromeDriverManager\n",
    "import time\n",
    "import random\n",
    "import pandas as pd"
   ]
  },
  {
   "cell_type": "code",
   "execution_count": 2,
   "id": "fda3b6dd-8f05-4bfd-84a0-cfa74ed1115d",
   "metadata": {},
   "outputs": [],
   "source": [
    "# Initialize WebDriver and open the URL\n",
    "driver = webdriver.Chrome(service=Service(ChromeDriverManager().install()))\n",
    "driver.get(\"https://www.imdb.com/list/ls098063263/\")"
   ]
  },
  {
   "cell_type": "code",
   "execution_count": 4,
   "id": "259d0f40-5ad3-4e7e-ab18-716edea18e95",
   "metadata": {},
   "outputs": [],
   "source": [
    "#Function to scroll from top to bottom of the page with random intervals\n",
    "def random_scroll(driver, total_wait_time):\n",
    "    total_height = driver.execute_script(\"return document.body.scrollHeight\")\n",
    "    scroll_steps = random.randint(3, 10)\n",
    "    scroll_increment = total_height // scroll_steps\n",
    "    time_per_step = total_wait_time / scroll_steps\n",
    "\n",
    "    for step in range(scroll_steps):\n",
    "        driver.execute_script(f\"window.scrollBy(0, {scroll_increment});\")\n",
    "        random_wait = random.uniform(0.5 * time_per_step, 1.5 * time_per_step)\n",
    "        time.sleep(random_wait)\n",
    "\n",
    "    driver.execute_script(\"window.scrollTo(0, document.body.scrollHeight);\")"
   ]
  },
  {
   "cell_type": "code",
   "execution_count": 3,
   "id": "cbaa4357-7136-4b35-941d-f7ab5ba89ac3",
   "metadata": {},
   "outputs": [],
   "source": [
    "# Make lists to store data\n",
    "titles = []\n",
    "release_years = []\n",
    "ratings = []\n",
    "gross_earnings = []"
   ]
  },
  {
   "cell_type": "code",
   "execution_count": null,
   "id": "2fecfa2e-0472-4a1c-a9b6-006e1c70668e",
   "metadata": {},
   "outputs": [],
   "source": [
    "def scrape_imdb_data():\n",
    "    page_number = 1 #Track Pages\n",
    "\n",
    "    while True:\n",
    "        print(f\"Scraping Page {page_number}...\")\n",
    "\n",
    "        #Scroll through the page so it loads\n",
    "        random_scroll(driver, random.uniform(5, 12))\n",
    "        \n",
    "        #Add a delay to let contents load\n",
    "        time.sleep(3)\n",
    "\n",
    "    #Extract the data\n",
    "    title_elements = driver.find_elements(By.CLASS_NAME, \"ipc-title__text\")\n",
    "    rating_elements = driver.find_elements(By.CLASS_NAME, \"ipc-rating-star--rating\")\n",
    "    year_elements = driver.find_elements(By.CLASS_NAME, \"sc-5bc66c50-6 00dsw dli-title-metadata-item\")\n",
    "    gross_elements = driver.find_elements(By.CLASS_NAME, \"ipc-md-header ipc-md-header--h2\")"
   ]
  }
 ],
 "metadata": {
  "kernelspec": {
   "display_name": "Python 3 (ipykernel)",
   "language": "python",
   "name": "python3"
  },
  "language_info": {
   "codemirror_mode": {
    "name": "ipython",
    "version": 3
   },
   "file_extension": ".py",
   "mimetype": "text/x-python",
   "name": "python",
   "nbconvert_exporter": "python",
   "pygments_lexer": "ipython3",
   "version": "3.11.7"
  }
 },
 "nbformat": 4,
 "nbformat_minor": 5
}
